{
 "cells": [
  {
   "cell_type": "markdown",
   "metadata": {},
   "source": [
    "#### Gdrive and Docs api commands"
   ]
  },
  {
   "cell_type": "code",
   "execution_count": null,
   "metadata": {},
   "outputs": [],
   "source": [
    "import gspread\n",
    "from oauth2client.service_account import ServiceAccountCredentials\n",
    "import pandas as pd\n",
    "\n",
    "def get_dataframe_from_google_sheets(credentials_path, file_link):\n",
    "    scope = ['https://spreadsheets.google.com/feeds', 'https://www.googleapis.com/auth/drive']\n",
    "    creds = ServiceAccountCredentials.from_json_keyfile_name(credentials_path, scope)\n",
    "    client = gspread.authorize(creds)\n",
    "    spreadsheet_id = file_link.split('/')[-2]\n",
    "    sheet = client.open_by_key(spreadsheet_id)\n",
    "    worksheet = sheet.get_worksheet(0)\n",
    "    data = worksheet.get_all_values()\n",
    "    df = pd.DataFrame(data[1:], columns=data[0])\n",
    "\n",
    "    return df\n",
    "\n",
    "credentials_path = 'credentials.json'\n",
    "file_link = 'https://docs.google.com/spreadsheets/d/xxx/edit?usp=sharing'\n",
    "df = get_dataframe_from_google_sheets(credentials_path, file_link)"
   ]
  },
  {
   "cell_type": "code",
   "execution_count": null,
   "metadata": {},
   "outputs": [],
   "source": [
    "import gspread\n",
    "from oauth2client.service_account import ServiceAccountCredentials\n",
    "\n",
    "def append_list_to_google_docs(row_data, spreadsheet_id, worksheet_name, credentials_path):\n",
    "    scope = ['https://spreadsheets.google.com/feeds', 'https://www.googleapis.com/auth/drive']\n",
    "    creds = ServiceAccountCredentials.from_json_keyfile_name(credentials_path, scope)\n",
    "    client = gspread.authorize(creds)\n",
    "    spreadsheet = client.open_by_key(spreadsheet_id)\n",
    "    worksheet = spreadsheet.worksheet(worksheet_name)\n",
    "    worksheet.append_row(row_data)\n",
    "    \n",
    "credentials_path = 'credentials.json'\n",
    "spreadsheet_file_link = \"https://docs.google.com/spreadsheets/d/xxxxx/edit?usp=drive_link\"\n",
    "spreadsheet_id = 'xxxxx'\n",
    "worksheet_name = 'Sheet1'\n",
    "credentials_path = 'credentials.json'\n",
    "row_data = ['a','b','c','d']\n",
    "append_list_to_google_docs(row_data, spreadsheet_id, worksheet_name, credentials_path)"
   ]
  },
  {
   "cell_type": "markdown",
   "metadata": {},
   "source": [
    "#### csv writer"
   ]
  },
  {
   "cell_type": "code",
   "execution_count": 1,
   "metadata": {},
   "outputs": [],
   "source": [
    "import csv\n",
    "\n",
    "def write_to_csv(csv_file_path,row_data):\n",
    "    with open(csv_file_path, 'a', newline='') as csvfile:\n",
    "        csv_writer = csv.writer(csvfile)\n",
    "        csv_writer.writerows(row_data)\n",
    "          \n",
    "csv_file_path = 'sample.csv'  \n",
    "header = ['name', 'area', 'country_code2', 'country_code3']\n",
    "write_to_csv(csv_file_path,[header])\n",
    "data = ['Afghanistan', 652090, 'AF', 'AFG']\n",
    "write_to_csv(csv_file_path,[data])"
   ]
  },
  {
   "cell_type": "markdown",
   "metadata": {},
   "source": [
    "#### Get current datetime"
   ]
  },
  {
   "cell_type": "code",
   "execution_count": 4,
   "metadata": {},
   "outputs": [
    {
     "data": {
      "text/plain": [
       "'18_12_23_16_47_49'"
      ]
     },
     "execution_count": 4,
     "metadata": {},
     "output_type": "execute_result"
    }
   ],
   "source": [
    "from zoneinfo import ZoneInfo\n",
    "from datetime import datetime\n",
    "\n",
    "def get_current_datetime_ind():\n",
    "    current_time = datetime.now(tz=ZoneInfo('Asia/Kolkata'))\n",
    "    formatted_time = current_time.strftime('%d_%m_%y_%H_%M_%S')\n",
    "    return formatted_time\n",
    "\n",
    "def get_current_datetime():\n",
    "    current_time = datetime.now()\n",
    "    formatted_time = current_time.strftime('%d_%m_%y_%H_%M_%S')\n",
    "    return formatted_time\n",
    "\n",
    "get_current_datetime() "
   ]
  },
  {
   "cell_type": "markdown",
   "metadata": {},
   "source": [
    "#### Read yaml"
   ]
  },
  {
   "cell_type": "code",
   "execution_count": null,
   "metadata": {},
   "outputs": [],
   "source": [
    "import yaml\n",
    "\n",
    "def real_yaml(path):\n",
    "    with open(path, \"r\") as stream:\n",
    "        d = yaml.safe_load(stream)\n",
    "    return d"
   ]
  },
  {
   "cell_type": "markdown",
   "metadata": {},
   "source": [
    "#### Read env variables"
   ]
  },
  {
   "cell_type": "code",
   "execution_count": null,
   "metadata": {},
   "outputs": [],
   "source": [
    "import os\n",
    "from dotenv import load_dotenv\n",
    "load_dotenv('.env')\n",
    "\n",
    "aws_service = os.environ.get(\"AWS_SERVICE\")\n",
    "aws_access_token = os.environ.get(\"AWS_ACCESS_TOKEN\")\n",
    "aws_secret_token = os.environ.get(\"AWS_SECRET_TOKEN\")\n",
    "aws_region = os.environ.get(\"AWS_REGION\")\n",
    "s3_bucket_name = os.environ.get(\"BUCKET_NAME\")\n",
    "s3_folder = os.environ.get(\"S3_OUTPUT_FOLDER\")\n",
    "sender_email = 'nakulchamariya373@gmail.com'\n",
    "sender_password = 'gnhcjjvsjznxvodv'"
   ]
  },
  {
   "cell_type": "markdown",
   "metadata": {},
   "source": [
    "#### Send email with python"
   ]
  },
  {
   "cell_type": "code",
   "execution_count": null,
   "metadata": {},
   "outputs": [],
   "source": [
    "from send_mail import SendMail\n",
    "\n",
    "sender_email = 'nakulchamariya373@gmail.com'\n",
    "sender_password = 'xxx'\n",
    "\n",
    "def email_file(receiver_email, email_title, email_descp, file_path = ''):\n",
    "    new_mail = SendMail(receiver_email, email_title, email_descp, sender_email)\n",
    "    if file_path:\n",
    "        new_mail.attach_files([file_path])\n",
    "    new_mail.send(sender_password)"
   ]
  },
  {
   "cell_type": "markdown",
   "metadata": {},
   "source": [
    "#### Python 'OS' module"
   ]
  },
  {
   "cell_type": "code",
   "execution_count": null,
   "metadata": {},
   "outputs": [],
   "source": [
    "import os\n",
    "os.environ[\"OPENAI_API_KEY\"] = \"xxx\"\n",
    "openai_key = os.environ.get(\"OPENAI_API_KEY\", \"xxx\")"
   ]
  },
  {
   "cell_type": "code",
   "execution_count": 12,
   "metadata": {},
   "outputs": [
    {
     "name": "stdout",
     "output_type": "stream",
     "text": [
      "/home/nakul74/Desktop data.csv\n",
      "True\n"
     ]
    }
   ],
   "source": [
    "import os\n",
    "\n",
    "# Define the path and file\n",
    "path_and_file = '/home/nakul74/Desktop/data.csv'\n",
    "\n",
    "# Split the path and file using os.path.split\n",
    "path, file = os.path.split(path_and_file)\n",
    "\n",
    "# Print the separated path and file\n",
    "print(path, file)\n",
    "\n",
    "# Create the directory using os.mkdir\n",
    "os.mkdir(path)\n",
    "\n",
    "# Alternatively, create the directory using os.makedirs with exist_ok=True to avoid errors if the directory already exists\n",
    "os.makedirs(path, exist_ok=True)\n",
    "\n",
    "# List the contents of the directory using os.listdir\n",
    "directory_contents = os.listdir(path)\n",
    "print(directory_contents)\n",
    "\n",
    "# Check if the file exists using os.path.isfile\n",
    "if os.path.isfile(file):\n",
    "    print(True)\n",
    "\n",
    "# Check if the path is a directory using os.path.isdir\n",
    "if os.path.isdir(path):\n",
    "    print(True)\n",
    "\n",
    "# Get the current working directory using os.getcwd\n",
    "current_working_directory = os.getcwd()\n",
    "print(current_working_directory)\n",
    "\n",
    "# Walk through the directory and its subdirectories using os.walk\n",
    "for directory_path, directories, files in os.walk('..'):\n",
    "    print(f\"Directory: {directory_path}\")\n",
    "    print(f\"Subdirectories: {directories}\")\n",
    "    print(f\"Files: {files}\")"
   ]
  },
  {
   "cell_type": "markdown",
   "metadata": {},
   "source": [
    "#### subprocess python"
   ]
  },
  {
   "cell_type": "code",
   "execution_count": 6,
   "metadata": {},
   "outputs": [
    {
     "name": "stdout",
     "output_type": "stream",
     "text": [
      "output: simple_commands.ipynb\n",
      "\n",
      "Error: \n"
     ]
    }
   ],
   "source": [
    "import subprocess\n",
    "\n",
    "result = subprocess.run([\"dir\"], shell=True, capture_output=True, text=True)\n",
    "\n",
    "print(\"output:\",result.stdout)\n",
    "\n",
    "print(\"Error:\",result.stderr)"
   ]
  },
  {
   "cell_type": "code",
   "execution_count": 7,
   "metadata": {},
   "outputs": [
    {
     "name": "stdout",
     "output_type": "stream",
     "text": [
      "Python 3.10.9\n",
      "Command executed successfully.\n"
     ]
    }
   ],
   "source": [
    "import subprocess\n",
    "\n",
    "return_code = subprocess.call([\"python\", \"--version\"])\n",
    "\n",
    "if return_code == 0:\n",
    "\n",
    "    print(\"Command executed successfully.\")\n",
    "\n",
    "else:\n",
    "\n",
    "    print(\"Command failed with return code\", return_code)"
   ]
  },
  {
   "cell_type": "markdown",
   "metadata": {},
   "source": [
    "#### python request"
   ]
  },
  {
   "cell_type": "code",
   "execution_count": null,
   "metadata": {},
   "outputs": [],
   "source": [
    "import requests\n",
    "\n",
    "host = 'xx.xx.xx.xx'\n",
    "port = '3333'\n",
    "\n",
    "query = {\"brandname\": 'abc',\"asin_list\": ['a','b','c']}\n",
    "response = requests.post(f'http://{host}:{port}/strategy-sheet-input', json=query)\n",
    "response.json()"
   ]
  },
  {
   "cell_type": "code",
   "execution_count": null,
   "metadata": {},
   "outputs": [],
   "source": [
    "response = requests.get(f\"http://{host}:{port}/\")\n",
    "response.json()"
   ]
  },
  {
   "cell_type": "code",
   "execution_count": null,
   "metadata": {},
   "outputs": [],
   "source": [
    "upload_file_payload = {\n",
    "    \"file\": (\"example.png\", open(\"example.png\", \"rb\"))\n",
    "}\n",
    "\n",
    "response_upload = requests.post(f\"http://{host}:{port}/uploadfile/\", files=upload_file_payload)\n",
    "response_upload.json()"
   ]
  },
  {
   "cell_type": "markdown",
   "metadata": {},
   "source": [
    "#### uuid"
   ]
  },
  {
   "cell_type": "code",
   "execution_count": 2,
   "metadata": {},
   "outputs": [
    {
     "name": "stdout",
     "output_type": "stream",
     "text": [
      "f0dcab97-569a-4a09-b1c3-d239283891ee\n",
      "1a30e84f2da241088e2683afe655bf3e\n"
     ]
    }
   ],
   "source": [
    "import uuid\n",
    "\n",
    "# Convert a UUID to a string of hex digits in standard form\n",
    "print(str(uuid.uuid4()))\n",
    "\n",
    "# Convert a UUID to a 32-character hexadecimal string\n",
    "print(uuid.uuid4().hex)"
   ]
  },
  {
   "cell_type": "code",
   "execution_count": null,
   "metadata": {},
   "outputs": [],
   "source": []
  }
 ],
 "metadata": {
  "kernelspec": {
   "display_name": "Python 3",
   "language": "python",
   "name": "python3"
  },
  "language_info": {
   "codemirror_mode": {
    "name": "ipython",
    "version": 3
   },
   "file_extension": ".py",
   "mimetype": "text/x-python",
   "name": "python",
   "nbconvert_exporter": "python",
   "pygments_lexer": "ipython3",
   "version": "3.10.9"
  }
 },
 "nbformat": 4,
 "nbformat_minor": 2
}
