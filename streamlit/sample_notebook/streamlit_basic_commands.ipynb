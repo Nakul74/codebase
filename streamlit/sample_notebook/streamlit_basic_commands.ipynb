{
 "cells": [
  {
   "cell_type": "markdown",
   "metadata": {},
   "source": [
    "### Streamlit Basic Commands"
   ]
  },
  {
   "cell_type": "code",
   "execution_count": 1,
   "metadata": {},
   "outputs": [],
   "source": [
    "import streamlit as st\n",
    "\n",
    "st.set_page_config(page_title=\"Ex-stream-ly Cool App\", \n",
    "                   page_icon=\"🧊\", \n",
    "                   layout=\"wide\", \n",
    "                   initial_sidebar_state=\"auto\", \n",
    "                   menu_items=None)"
   ]
  },
  {
   "cell_type": "markdown",
   "metadata": {},
   "source": [
    "##### st.text"
   ]
  },
  {
   "cell_type": "code",
   "execution_count": 2,
   "metadata": {},
   "outputs": [],
   "source": [
    "st.text('This is some text.')"
   ]
  },
  {
   "cell_type": "markdown",
   "metadata": {},
   "source": [
    "##### st.link_button"
   ]
  },
  {
   "cell_type": "code",
   "execution_count": 3,
   "metadata": {},
   "outputs": [],
   "source": [
    "st.link_button(\"Go to gallery\", \"https://streamlit.io/gallery\")"
   ]
  },
  {
   "cell_type": "markdown",
   "metadata": {},
   "source": [
    "##### st.selectbox"
   ]
  },
  {
   "cell_type": "code",
   "execution_count": 4,
   "metadata": {},
   "outputs": [],
   "source": [
    "st.selectbox(label, options, index=0)"
   ]
  },
  {
   "cell_type": "markdown",
   "metadata": {},
   "source": [
    "##### st.multiselect"
   ]
  },
  {
   "cell_type": "code",
   "execution_count": null,
   "metadata": {},
   "outputs": [],
   "source": [
    "st.multiselect(label, options, default=None)"
   ]
  },
  {
   "cell_type": "markdown",
   "metadata": {},
   "source": [
    "##### st.text_input (use for small text input)"
   ]
  },
  {
   "cell_type": "code",
   "execution_count": 5,
   "metadata": {},
   "outputs": [],
   "source": [
    "st.text_input(label, value=\"\")"
   ]
  },
  {
   "cell_type": "markdown",
   "metadata": {},
   "source": [
    "##### st.text_area (use for big text input)"
   ]
  },
  {
   "cell_type": "code",
   "execution_count": null,
   "metadata": {},
   "outputs": [],
   "source": [
    "st.text_area(label, value=\"\", height=None)"
   ]
  },
  {
   "cell_type": "markdown",
   "metadata": {},
   "source": [
    "##### st.radio"
   ]
  },
  {
   "cell_type": "code",
   "execution_count": null,
   "metadata": {},
   "outputs": [],
   "source": [
    "st.radio(label, options, index=0)"
   ]
  },
  {
   "cell_type": "markdown",
   "metadata": {},
   "source": [
    "##### st.checkbox"
   ]
  },
  {
   "cell_type": "code",
   "execution_count": null,
   "metadata": {},
   "outputs": [],
   "source": [
    "check = st.checkbox(label, value=False)\n",
    "if check:\n",
    "    st.write('check activated!')"
   ]
  },
  {
   "cell_type": "markdown",
   "metadata": {},
   "source": [
    "##### st.toggle"
   ]
  },
  {
   "cell_type": "code",
   "execution_count": null,
   "metadata": {},
   "outputs": [],
   "source": [
    "on = st.toggle(label, value=False)\n",
    "if on:\n",
    "    st.write('Feature activated!')"
   ]
  },
  {
   "cell_type": "markdown",
   "metadata": {},
   "source": [
    "##### st.number_input (int)"
   ]
  },
  {
   "cell_type": "code",
   "execution_count": null,
   "metadata": {},
   "outputs": [],
   "source": [
    "st.number_input(label, min_value=None, max_value=None, value=\"min\")"
   ]
  },
  {
   "cell_type": "markdown",
   "metadata": {},
   "source": [
    "##### st.number_input (float)"
   ]
  },
  {
   "cell_type": "code",
   "execution_count": null,
   "metadata": {},
   "outputs": [],
   "source": [
    "st.number_input(label, min_value=None, max_value=None, value=\"min\", step=0.1)"
   ]
  },
  {
   "cell_type": "markdown",
   "metadata": {},
   "source": [
    "##### Plotly Plot"
   ]
  },
  {
   "cell_type": "code",
   "execution_count": 7,
   "metadata": {},
   "outputs": [],
   "source": [
    "fig = 'plotly_fig'\n",
    "st.plotly_chart(fig, use_container_width=True)"
   ]
  },
  {
   "cell_type": "markdown",
   "metadata": {},
   "source": [
    "##### Dataframe"
   ]
  },
  {
   "cell_type": "code",
   "execution_count": 8,
   "metadata": {},
   "outputs": [],
   "source": [
    "import pandas as pd\n",
    "df = pd.DataFrame()\n",
    "st.dataframe(df, use_container_width=True)"
   ]
  },
  {
   "cell_type": "markdown",
   "metadata": {},
   "source": [
    "##### st.expander"
   ]
  },
  {
   "cell_type": "code",
   "execution_count": null,
   "metadata": {},
   "outputs": [],
   "source": [
    "import streamlit as st\n",
    "\n",
    "st.bar_chart({\"data\": [1, 5, 2, 6, 2, 1]})\n",
    "\n",
    "with st.expander(\"See explanation\",expanded=False):\n",
    "    st.write(\"The chart above shows some numbers I picked for you.\")\n",
    "    st.image(\"https://static.streamlit.io/examples/dice.jpg\")"
   ]
  },
  {
   "cell_type": "markdown",
   "metadata": {},
   "source": [
    "##### st.image"
   ]
  },
  {
   "cell_type": "code",
   "execution_count": null,
   "metadata": {},
   "outputs": [],
   "source": [
    "from PIL import Image\n",
    "uploaded_image = Image.open('sample.png')\n",
    "st.image(uploaded_image, caption='img caption')"
   ]
  },
  {
   "cell_type": "markdown",
   "metadata": {},
   "source": [
    "##### st.columns"
   ]
  },
  {
   "cell_type": "code",
   "execution_count": null,
   "metadata": {},
   "outputs": [],
   "source": [
    "import streamlit as st\n",
    "\n",
    "col1, col2, col3 = st.columns(3)\n",
    "\n",
    "with col1:\n",
    "   st.header(\"A cat\")\n",
    "   st.image(\"https://static.streamlit.io/examples/cat.jpg\")\n",
    "\n",
    "with col2:\n",
    "   st.header(\"A dog\")\n",
    "   st.image(\"https://static.streamlit.io/examples/dog.jpg\")\n",
    "\n",
    "with col3:\n",
    "   st.header(\"An owl\")\n",
    "   st.image(\"https://static.streamlit.io/examples/owl.jpg\")"
   ]
  },
  {
   "cell_type": "markdown",
   "metadata": {},
   "source": [
    "##### st.tabs"
   ]
  },
  {
   "cell_type": "code",
   "execution_count": null,
   "metadata": {},
   "outputs": [],
   "source": [
    "import streamlit as st\n",
    "\n",
    "tab1, tab2, tab3 = st.tabs([\"Cat\", \"Dog\", \"Owl\"])\n",
    "\n",
    "with tab1:\n",
    "   st.header(\"A cat\")\n",
    "   st.image(\"https://static.streamlit.io/examples/cat.jpg\", width=200)\n",
    "\n",
    "with tab2:\n",
    "   st.header(\"A dog\")\n",
    "   st.image(\"https://static.streamlit.io/examples/dog.jpg\", width=200)\n",
    "\n",
    "with tab3:\n",
    "   st.header(\"An owl\")\n",
    "   st.image(\"https://static.streamlit.io/examples/owl.jpg\", width=200)"
   ]
  },
  {
   "cell_type": "markdown",
   "metadata": {},
   "source": [
    "##### st.audio [docs](https://docs.streamlit.io/library/api-reference/media/st.audio)"
   ]
  },
  {
   "cell_type": "code",
   "execution_count": null,
   "metadata": {},
   "outputs": [],
   "source": [
    "import streamlit as st\n",
    "import numpy as np\n",
    "\n",
    "audio_file = open('myaudio.ogg', 'rb')\n",
    "audio_bytes = audio_file.read()\n",
    "\n",
    "st.audio(audio_bytes, format='audio/ogg')\n",
    "\n",
    "sample_rate = 44100  # 44100 samples per second\n",
    "seconds = 2  # Note duration of 2 seconds\n",
    "frequency_la = 440  # Our played note will be 440 Hz\n",
    "# Generate array with seconds*sample_rate steps, ranging between 0 and seconds\n",
    "t = np.linspace(0, seconds, seconds * sample_rate, False)\n",
    "# Generate a 440 Hz sine wave\n",
    "note_la = np.sin(frequency_la * t * 2 * np.pi)\n",
    "\n",
    "st.audio(note_la, sample_rate=sample_rate)"
   ]
  },
  {
   "cell_type": "markdown",
   "metadata": {},
   "source": [
    "##### st.video [docs](https://docs.streamlit.io/library/api-reference/media/st.video)"
   ]
  },
  {
   "cell_type": "code",
   "execution_count": null,
   "metadata": {},
   "outputs": [],
   "source": [
    "video_file = open('myvideo.mp4', 'rb')\n",
    "video_bytes = video_file.read()\n",
    "\n",
    "st.video(video_bytes)"
   ]
  },
  {
   "cell_type": "markdown",
   "metadata": {},
   "source": [
    "##### Cache Data"
   ]
  },
  {
   "cell_type": "code",
   "execution_count": 9,
   "metadata": {},
   "outputs": [],
   "source": [
    "@st.cache_resource\n",
    "def load_data():\n",
    "    d = {'a':'1','b':'2','c':'3'}\n",
    "    return d\n",
    "\n",
    "data = load_data()"
   ]
  },
  {
   "cell_type": "markdown",
   "metadata": {},
   "source": [
    "##### Cache Model"
   ]
  },
  {
   "cell_type": "code",
   "execution_count": 10,
   "metadata": {},
   "outputs": [],
   "source": [
    "import joblib\n",
    "\n",
    "@st.cache_resource\n",
    "def load_model():\n",
    "    model = joblib.load('mymodel.pkl')\n",
    "    return model\n",
    "\n",
    "model = load_model()"
   ]
  },
  {
   "cell_type": "markdown",
   "metadata": {},
   "source": [
    "##### st.download_button (csv file)"
   ]
  },
  {
   "cell_type": "code",
   "execution_count": null,
   "metadata": {},
   "outputs": [],
   "source": [
    "import os\n",
    "import pandas as pd\n",
    "\n",
    "@st.cache_resource\n",
    "def convert_df(df):\n",
    "    return df.to_csv().encode('utf-8')\n",
    "\n",
    "df = pd.read_csv(os.path.join('sample_data','strategy_sheet_sample.csv'))\n",
    "csv = convert_df(df)\n",
    "\n",
    "st.download_button(label=\"Download sample template\",\n",
    "                    data=csv,file_name='sample.csv',\n",
    "                    mime='text/csv')"
   ]
  },
  {
   "cell_type": "markdown",
   "metadata": {},
   "source": [
    "##### st.download_button (image file)"
   ]
  },
  {
   "cell_type": "code",
   "execution_count": null,
   "metadata": {},
   "outputs": [],
   "source": [
    "import streamlit as st\n",
    "\n",
    "with open(\"flower.png\", \"rb\") as file:\n",
    "    btn = st.download_button(\n",
    "            label=\"Download image\",\n",
    "            data=file,\n",
    "            file_name=\"flower.png\",\n",
    "            mime=\"image/png\"\n",
    "          )"
   ]
  },
  {
   "cell_type": "markdown",
   "metadata": {},
   "source": [
    "##### st.download_button (text file)"
   ]
  },
  {
   "cell_type": "code",
   "execution_count": null,
   "metadata": {},
   "outputs": [],
   "source": [
    "import streamlit as st\n",
    "\n",
    "text_contents = '''This is some text'''\n",
    "st.download_button('Download some text', text_contents)"
   ]
  },
  {
   "cell_type": "markdown",
   "metadata": {},
   "source": [
    "##### st.date_input"
   ]
  },
  {
   "cell_type": "code",
   "execution_count": null,
   "metadata": {},
   "outputs": [],
   "source": [
    "from datetime import datetime,timedelta\n",
    "\n",
    "# Set the minimum date to today\n",
    "min_date = datetime.now().date()\n",
    "\n",
    "# Set the maximum date to 1/12/2032\n",
    "max_date = datetime(2032, 12, 1).date()\n",
    "# max_date = (datetime(2032, 12, 1) + timedelta(days=365*10)).date()\n",
    "\n",
    "selected_date = st.date_input(\"Select a date\", min_value=min_date, max_value=max_date)\n",
    "\n",
    "selected_datetime = datetime.combine(selected_date, datetime.min.time())\n",
    "\n",
    "# Extract numerical representations of day, week, and month\n",
    "day_number = selected_datetime.weekday()  # Monday is 0, Sunday is 6\n",
    "week_number = selected_datetime.isocalendar()[1]  # ISO week number\n",
    "month_number = selected_datetime.month\n",
    "\n",
    "# Extract day, week, and month\n",
    "day = selected_datetime.strftime(\"%A\")  # Full day name\n",
    "week_number = selected_datetime.strftime(\"%U\")  # Week number\n",
    "month = selected_datetime.strftime(\"%B\")  # Full month name "
   ]
  },
  {
   "cell_type": "markdown",
   "metadata": {},
   "source": [
    "##### st.file_uploader (image)"
   ]
  },
  {
   "cell_type": "code",
   "execution_count": null,
   "metadata": {},
   "outputs": [],
   "source": [
    "from PIL import Image\n",
    "import os\n",
    "import uuid\n",
    "\n",
    "def save_file(uploaded_file):\n",
    "    file_extension = os.path.splitext(uploaded_file.name)[-1].lower()\n",
    "    unique_filename = str(uuid.uuid4()) + file_extension\n",
    "    uploaded_image = Image.open(uploaded_file)\n",
    "    uploaded_image.save(unique_filename)\n",
    "    return unique_filename\n",
    "\n",
    "uploaded_file = st.file_uploader(\"Choose an image...\", type=[\"jpg\", \"jpeg\", \"png\"])\n",
    "if uploaded_file:\n",
    "    local_filename = save_file(uploaded_file)"
   ]
  },
  {
   "cell_type": "markdown",
   "metadata": {},
   "source": [
    "##### st.file_uploader (csv or excel)"
   ]
  },
  {
   "cell_type": "code",
   "execution_count": null,
   "metadata": {},
   "outputs": [],
   "source": [
    "import pandas as pd\n",
    "uploaded_file = st.file_uploader(\"upload csv or excel...\", type=[\"xlsx\", \"csv\"])\n",
    "if uploaded_file:\n",
    "    file_extension = os.path.splitext(uploaded_file.name)[-1].lower()\n",
    "    if 'csv' in file_extension:\n",
    "        df = pd.read_csv(uploaded_file)\n",
    "    else:\n",
    "        df = pd.read_excel(uploaded_file)"
   ]
  },
  {
   "cell_type": "markdown",
   "metadata": {},
   "source": [
    "##### st.camera_input"
   ]
  },
  {
   "cell_type": "code",
   "execution_count": null,
   "metadata": {},
   "outputs": [],
   "source": [
    "from PIL import Image\n",
    "import os\n",
    "import uuid\n",
    "\n",
    "def save_file(uploaded_file):\n",
    "    file_extension = os.path.splitext(uploaded_file.name)[-1].lower()\n",
    "    unique_filename = str(uuid.uuid4()) + file_extension\n",
    "    uploaded_image = Image.open(uploaded_file)\n",
    "    uploaded_image.save(unique_filename)\n",
    "    return unique_filename\n",
    "\n",
    "picture = st.camera_input(\"Take a picture\")\n",
    "if uploaded_file:\n",
    "    local_filename = save_file(picture)"
   ]
  },
  {
   "cell_type": "markdown",
   "metadata": {},
   "source": [
    "##### st.spinner"
   ]
  },
  {
   "cell_type": "code",
   "execution_count": null,
   "metadata": {},
   "outputs": [],
   "source": [
    "import time\n",
    "import streamlit as st\n",
    "\n",
    "with st.spinner('Wait for it...'):\n",
    "    time.sleep(5)\n",
    "st.success('Done!')"
   ]
  },
  {
   "cell_type": "markdown",
   "metadata": {},
   "source": []
  }
 ],
 "metadata": {
  "kernelspec": {
   "display_name": "Python 3",
   "language": "python",
   "name": "python3"
  },
  "language_info": {
   "codemirror_mode": {
    "name": "ipython",
    "version": 3
   },
   "file_extension": ".py",
   "mimetype": "text/x-python",
   "name": "python",
   "nbconvert_exporter": "python",
   "pygments_lexer": "ipython3",
   "version": "3.9.10"
  }
 },
 "nbformat": 4,
 "nbformat_minor": 2
}
