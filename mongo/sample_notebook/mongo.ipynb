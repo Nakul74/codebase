{
 "cells": [
  {
   "cell_type": "markdown",
   "metadata": {},
   "source": [
    "#### Insert data one by one"
   ]
  },
  {
   "cell_type": "code",
   "execution_count": null,
   "metadata": {},
   "outputs": [],
   "source": [
    "from pymongo import MongoClient\n",
    "\n",
    "# Connect to MongoDB\n",
    "client = MongoClient('mongodb://localhost:27017/')  # Update the connection string as needed\n",
    "\n",
    "# Select the database\n",
    "db = client['your_database_name']  # Replace 'your_database_name' with the actual name of your database\n",
    "\n",
    "# Select the \"user\" collection\n",
    "user_collection = db['user']\n",
    "\n",
    "# Data to be inserted\n",
    "user_data = {\n",
    "    'username': 'example_user',\n",
    "    'email': 'user@example.com',\n",
    "    'age': 25\n",
    "    # Add more fields as needed\n",
    "}\n",
    "\n",
    "# Insert the data into the \"user\" collection\n",
    "result = user_collection.insert_one(user_data)\n",
    "\n",
    "# Print the inserted document's ID\n",
    "print(f\"Inserted document ID: {result.inserted_id}\")\n",
    "\n",
    "# Close the MongoDB connection\n",
    "client.close()"
   ]
  },
  {
   "cell_type": "markdown",
   "metadata": {},
   "source": [
    "* Note mongo will automatically create database and collection if it doesn't exists once you insert any record to it"
   ]
  },
  {
   "cell_type": "markdown",
   "metadata": {},
   "source": [
    "#### Insert data all"
   ]
  },
  {
   "cell_type": "code",
   "execution_count": 2,
   "metadata": {},
   "outputs": [
    {
     "data": {
      "text/plain": [
       "[{'name': 'John', 'age': 25, 'city': 'New York'},\n",
       " {'name': 'Jane', 'age': 30, 'city': 'San Francisco'},\n",
       " {'name': 'Bob', 'age': 22, 'city': 'Los Angeles'}]"
      ]
     },
     "execution_count": 2,
     "metadata": {},
     "output_type": "execute_result"
    }
   ],
   "source": [
    "import pandas as pd\n",
    "# Sample DataFrame (Replace this with your actual DataFrame)\n",
    "data = {\n",
    "    'name': ['John', 'Jane', 'Bob'],\n",
    "    'age': [25, 30, 22],\n",
    "    'city': ['New York', 'San Francisco', 'Los Angeles']\n",
    "    # Add more columns as needed\n",
    "}\n",
    "df = pd.DataFrame(data)\n",
    "\n",
    "# Convert DataFrame to dictionary\n",
    "data_dict = df.to_dict(orient='records')\n",
    "data_dict"
   ]
  },
  {
   "cell_type": "code",
   "execution_count": null,
   "metadata": {},
   "outputs": [],
   "source": [
    "from pymongo import MongoClient\n",
    "\n",
    "# Connect to MongoDB\n",
    "client = MongoClient('mongodb://localhost:27017/')  # Update the connection string as needed\n",
    "\n",
    "# Specify the name of the database and collection\n",
    "database_name = 'your_database'  # Replace 'your_database' with the actual name of your database\n",
    "collection_name = 'your_collection'  # Replace 'your_collection' with the desired name\n",
    "\n",
    "# Select the database and collection\n",
    "db = client[database_name]\n",
    "collection = db[collection_name]\n",
    "\n",
    "# Insert the data into the collection\n",
    "collection.insert_many(data_dict)\n",
    "\n",
    "# Close the MongoDB connection\n",
    "client.close()\n"
   ]
  },
  {
   "cell_type": "markdown",
   "metadata": {},
   "source": [
    "#### Delete records"
   ]
  },
  {
   "cell_type": "code",
   "execution_count": null,
   "metadata": {},
   "outputs": [],
   "source": [
    "from pymongo import MongoClient\n",
    "\n",
    "# Connect to MongoDB\n",
    "client = MongoClient('mongodb://localhost:27017/')  # Update the connection string as needed\n",
    "\n",
    "# Specify the name of the database and collection\n",
    "database_name = 'your_database'  # Replace 'your_database' with the actual name of your database\n",
    "collection_name = 'your_collection'  # Replace 'your_collection' with the desired name\n",
    "\n",
    "# Select the database and collection\n",
    "db = client[database_name]\n",
    "collection = db[collection_name]\n",
    "\n",
    "# Define the condition for deletion\n",
    "condition = {'age': {'$gt': 25}}  # Example: Delete records where 'age' is greater than 25\n",
    "\n",
    "# Delete records that match the condition\n",
    "result = collection.delete_many(condition)\n",
    "\n",
    "# Print the number of deleted records\n",
    "print(f\"Number of deleted records: {result.deleted_count}\")\n",
    "\n",
    "# Close the MongoDB connection\n",
    "client.close()\n"
   ]
  },
  {
   "cell_type": "markdown",
   "metadata": {},
   "source": [
    "#### Extract data based on condition"
   ]
  },
  {
   "cell_type": "code",
   "execution_count": null,
   "metadata": {},
   "outputs": [],
   "source": [
    "from pymongo import MongoClient\n",
    "\n",
    "# Connect to MongoDB\n",
    "client = MongoClient('mongodb://localhost:27017/')  # Update the connection string as needed\n",
    "\n",
    "# Specify the name of the database and collection\n",
    "database_name = 'your_database'  # Replace 'your_database' with the actual name of your database\n",
    "collection_name = 'your_collection'  # Replace 'your_collection' with the desired name\n",
    "\n",
    "# Select the database and collection\n",
    "db = client[database_name]\n",
    "collection = db[collection_name]\n",
    "\n",
    "# Define the condition for retrieval\n",
    "condition = {'age': {'$gt': 25}}  # Example: Retrieve records where 'age' is greater than 25\n",
    "\n",
    "# Find records that match the condition\n",
    "cursor = collection.find(condition)\n",
    "\n",
    "# Iterate over the cursor to retrieve the records\n",
    "for record in cursor:\n",
    "    print(record)\n",
    "\n",
    "# Close the MongoDB connection\n",
    "client.close()\n"
   ]
  }
 ],
 "metadata": {
  "kernelspec": {
   "display_name": "Python 3",
   "language": "python",
   "name": "python3"
  },
  "language_info": {
   "codemirror_mode": {
    "name": "ipython",
    "version": 3
   },
   "file_extension": ".py",
   "mimetype": "text/x-python",
   "name": "python",
   "nbconvert_exporter": "python",
   "pygments_lexer": "ipython3",
   "version": "3.10.9"
  }
 },
 "nbformat": 4,
 "nbformat_minor": 2
}
