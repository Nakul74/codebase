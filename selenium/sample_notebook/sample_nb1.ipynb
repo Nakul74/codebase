{
 "cells": [
  {
   "cell_type": "code",
   "execution_count": null,
   "metadata": {},
   "outputs": [],
   "source": [
    "from selenium import webdriver\n",
    "from selenium.webdriver.common.by import By\n",
    "from selenium.webdriver.support.ui import Select\n",
    "from selenium.webdriver.common.action_chains import ActionChains\n",
    "from selenium.webdriver.common.keys import Keys\n",
    "import random\n",
    "import time\n",
    "\n",
    "import warnings\n",
    "warnings.filterwarnings('ignore') "
   ]
  },
  {
   "cell_type": "code",
   "execution_count": null,
   "metadata": {},
   "outputs": [],
   "source": [
    "def local_get_driver_object():\n",
    "    options = webdriver.chrome.options.Options()\n",
    "    driver_path = '../chromedriver'\n",
    "    brave_path = '/usr/bin/google-chrome'\n",
    "    options.add_argument('--remote-debugging-port=9224')\n",
    "    options.binary_location = brave_path\n",
    "    # options.add_argument(\"--headless\")\n",
    "    driver = webdriver.Chrome(options=options, executable_path=driver_path)\n",
    "    \n",
    "    return driver"
   ]
  },
  {
   "cell_type": "code",
   "execution_count": null,
   "metadata": {},
   "outputs": [],
   "source": [
    "def ec2_get_driver_object():\n",
    "    options = webdriver.ChromeOptions()\n",
    "    options.add_argument(\"--headless\")\n",
    "    options.add_argument(\"window-size=1400,1500\")\n",
    "    options.add_argument(\"--disable-gpu\")\n",
    "    options.add_argument(\"--no-sandbox\")\n",
    "    options.add_argument(\"start-maximized\")\n",
    "    options.add_argument(\"enable-automation\")\n",
    "    options.add_argument(\"--disable-infobars\")\n",
    "    options.add_argument(\"--disable-dev-shm-usage\")\n",
    "    options.add_argument(\"--remote-debugging-port=9230\")\n",
    "    driver = webdriver.Chrome(options=options)\n",
    "    \n",
    "    return driver"
   ]
  },
  {
   "cell_type": "code",
   "execution_count": null,
   "metadata": {},
   "outputs": [],
   "source": [
    "def scroll_to_element(driver,path):\n",
    "    element = driver.find_element(By.CSS_SELECTOR, path)\n",
    "    actions = ActionChains(driver)\n",
    "    actions.move_to_element(element).perform()\n",
    "    \n",
    "def scroll_down_page(driver, scroll_time=5):\n",
    "    current_scroll_position, new_height= 0, 1\n",
    "    while current_scroll_position <= new_height:\n",
    "        speed = driver.get_window_size()['height']/5\n",
    "        current_scroll_position += speed\n",
    "        driver.execute_script(\"window.scrollTo(0, {});\".format(current_scroll_position))\n",
    "        new_height = driver.execute_script(\"return document.body.scrollHeight\")\n",
    "        time.sleep(scroll_time*speed/new_height)\n",
    "        \n",
    "def get_scroll_height(driver):\n",
    "    scroll_height_script = \"return Math.max(document.documentElement.scrollHeight, document.body.scrollHeight, document.documentElement.clientHeight);\"\n",
    "    return driver.execute_script(scroll_height_script)\n",
    "\n",
    "def scroll_to_percentage(driver,percentage):\n",
    "    scroll_height = get_scroll_height()\n",
    "    scroll_position = int(scroll_height * percentage)\n",
    "    scroll_script = f\"window.scrollTo({{top: {scroll_position}, behavior: 'smooth'}});\"\n",
    "    driver.execute_script(scroll_script)\n",
    "    \n",
    "def scroll_smoothly(driver, scroll_percentage):\n",
    "    scroll_height = driver.execute_script(\n",
    "        \"return Math.max(document.documentElement.scrollHeight, document.body.scrollHeight, document.documentElement.clientHeight);\"\n",
    "    )\n",
    "    scroll_position = int(scroll_height * scroll_percentage)\n",
    "    scroll_script = f\"window.scrollTo({{top: {scroll_position}, behavior: 'smooth'}});\"\n",
    "    driver.execute_script(scroll_script)\n",
    "    time.sleep(random.uniform(0.5, 1.5))"
   ]
  },
  {
   "cell_type": "code",
   "execution_count": null,
   "metadata": {},
   "outputs": [],
   "source": [
    "def type_with_delays(driver, value, min_delay, max_delay):\n",
    "    actions = ActionChains(driver)\n",
    "    for i in value:\n",
    "        # Perform key press action\n",
    "        actions.send_keys(i)\n",
    "        # Simulate human-like delay after typing\n",
    "        wait_time = random.uniform(min_delay, max_delay)\n",
    "        time.sleep(wait_time)\n",
    "        # Press Enter key\n",
    "        actions.perform()\n",
    "    actions.send_keys(Keys.ENTER)\n",
    "    actions.perform()\n",
    "    \n",
    "def element_click(driver,element,wait_time=2):\n",
    "    # Simulate human-like delay before clicking\n",
    "    wait_time_before = random.uniform(wait_time * 0.7, wait_time * 1.3)\n",
    "    ActionChains(driver).pause(wait_time_before).perform()\n",
    "\n",
    "    # Simulate human-like mouse movement before clicking\n",
    "    offset_x = random.uniform(-10, 10)\n",
    "    offset_y = random.uniform(-10, 10)\n",
    "    ActionChains(driver).move_to_element_with_offset(element, offset_x, offset_y).perform()\n",
    "\n",
    "    # Click the radio button\n",
    "    element.click()\n",
    "\n",
    "    # Simulate human-like delay after clicking\n",
    "    wait_time_after = random.uniform(wait_time * 1.5, wait_time * 2)\n",
    "    ActionChains(driver).pause(wait_time_after).perform()"
   ]
  },
  {
   "cell_type": "code",
   "execution_count": null,
   "metadata": {},
   "outputs": [],
   "source": [
    "def radio_click(driver,path):\n",
    "    radio = driver.find_element(By.CSS_SELECTOR, path)\n",
    "    radio.click()"
   ]
  },
  {
   "cell_type": "code",
   "execution_count": null,
   "metadata": {},
   "outputs": [],
   "source": [
    "def input_box(driver,path,data):\n",
    "    content = driver.find_element(By.CSS_SELECTOR,path)\n",
    "    content.send_keys(data)\n",
    "    \n",
    "def select_box(driver,path,data):\n",
    "    s = Select(driver.find_element(By.CSS_SELECTOR, path))\n",
    "    s.select_by_visible_text(data)\n",
    "    \n",
    "def get_select_options(driver,path):\n",
    "    opt = Select(driver.find_element(By.CSS_SELECTOR, path))\n",
    "    options = [i.text for i in opt.options]\n",
    "    return options\n",
    "\n",
    "def get_text(driver,path):\n",
    "    content = driver.find_element(By.CSS_SELECTOR,path)\n",
    "    return content.text\n",
    "\n",
    "def check_element_present(driver,path):\n",
    "    content = driver.find_elements(By.CSS_SELECTOR,path)\n",
    "    if content:\n",
    "        return True \n",
    "    else:\n",
    "        return False"
   ]
  },
  {
   "cell_type": "code",
   "execution_count": null,
   "metadata": {},
   "outputs": [],
   "source": [
    "import os\n",
    "def save_screenshot(driver,screenshot_path):\n",
    "    driver.save_screenshot(os.path.join(screenshot_path,\"screenshot.png\"))"
   ]
  }
 ],
 "metadata": {
  "language_info": {
   "name": "python"
  }
 },
 "nbformat": 4,
 "nbformat_minor": 2
}
